{
 "cells": [
  {
   "cell_type": "code",
   "execution_count": 44,
   "metadata": {},
   "outputs": [
    {
     "name": "stdout",
     "output_type": "stream",
     "text": [
      "11.96055006980896\n"
     ]
    }
   ],
   "source": [
    "import sys\n",
    "\n",
    "import time \n",
    "import numpy as np\n",
    "\n",
    "def tStart():\n",
    "    global start_time \n",
    "    start_time = time.time()\n",
    "    \n",
    "def tEnd():\n",
    "    print(time.time() - start_time)\n",
    "\n",
    "#create dataset\n",
    "tStart()\n",
    "i = 0\n",
    "a, b, c = [], [], []\n",
    "while i < 10_000_000:\n",
    "    a.append(i)\n",
    "    #check if divisable by 3\n",
    "    if i**2 % 3 == 0:\n",
    "        b.append(True)\n",
    "    else:\n",
    "        b.append(False)\n",
    "    #check if divisable by 5\n",
    "    if i**2 % 5 == 0:\n",
    "        c.append(True)\n",
    "    else:\n",
    "        c.append(False)\n",
    "    i += 1\n",
    "tEnd()"
   ]
  },
  {
   "cell_type": "code",
   "execution_count": null,
   "metadata": {},
   "outputs": [],
   "source": []
  },
  {
   "cell_type": "code",
   "execution_count": 51,
   "metadata": {},
   "outputs": [
    {
     "ename": "NameError",
     "evalue": "name 'Output' is not defined",
     "output_type": "error",
     "traceback": [
      "\u001b[0;31m---------------------------------------------------------------------------\u001b[0m",
      "\u001b[0;31mNameError\u001b[0m                                 Traceback (most recent call last)",
      "\u001b[0;32m<ipython-input-51-3f12d9383bd9>\u001b[0m in \u001b[0;36m<module>\u001b[0;34m\u001b[0m\n\u001b[1;32m      7\u001b[0m         \u001b[0moutput\u001b[0m\u001b[0;34m.\u001b[0m\u001b[0mappend\u001b[0m\u001b[0;34m(\u001b[0m\u001b[0;32mNone\u001b[0m\u001b[0;34m)\u001b[0m\u001b[0;34m\u001b[0m\u001b[0;34m\u001b[0m\u001b[0m\n\u001b[1;32m      8\u001b[0m \u001b[0;34m\u001b[0m\u001b[0m\n\u001b[0;32m----> 9\u001b[0;31m \u001b[0mprint\u001b[0m\u001b[0;34m(\u001b[0m\u001b[0mOutput\u001b[0m\u001b[0;34m)\u001b[0m\u001b[0;34m\u001b[0m\u001b[0;34m\u001b[0m\u001b[0m\n\u001b[0m\u001b[1;32m     10\u001b[0m \u001b[0mtEnd\u001b[0m\u001b[0;34m(\u001b[0m\u001b[0;34m)\u001b[0m\u001b[0;34m\u001b[0m\u001b[0;34m\u001b[0m\u001b[0m\n",
      "\u001b[0;31mNameError\u001b[0m: name 'Output' is not defined"
     ]
    }
   ],
   "source": [
    "tStart()\n",
    "output = []\n",
    "for index, item in enumerate(a):\n",
    "    if b[index] == True and c[index] == True:\n",
    "        output.append(i)\n",
    "    else:\n",
    "        output.append(None)\n",
    "        \n",
    "print(Output)\n",
    "tEnd()"
   ]
  },
  {
   "cell_type": "code",
   "execution_count": null,
   "metadata": {},
   "outputs": [],
   "source": [
    "tStart()\n",
    "def a_func(a, b, c):\n",
    "    a = a\n",
    "    b = np.array(b)\n",
    "    c = np.array(c)\n",
    "    print(b)\n",
    "    print(c)\n",
    "    return np.where((b == True) & (c == True), a, 0)\n",
    "\n",
    "[print(a_func(a,b,c))\n",
    "\n",
    "tEnd()"
   ]
  },
  {
   "cell_type": "code",
   "execution_count": null,
   "metadata": {},
   "outputs": [],
   "source": []
  }
 ],
 "metadata": {
  "kernelspec": {
   "display_name": "Python 3",
   "language": "python",
   "name": "python3"
  },
  "language_info": {
   "codemirror_mode": {
    "name": "ipython",
    "version": 3
   },
   "file_extension": ".py",
   "mimetype": "text/x-python",
   "name": "python",
   "nbconvert_exporter": "python",
   "pygments_lexer": "ipython3",
   "version": "3.8.5"
  }
 },
 "nbformat": 4,
 "nbformat_minor": 4
}
