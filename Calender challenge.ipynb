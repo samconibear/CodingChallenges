{
 "cells": [
  {
   "cell_type": "code",
   "execution_count": 41,
   "metadata": {},
   "outputs": [
    {
     "name": "stdout",
     "output_type": "stream",
     "text": [
      "[540, 541, 542, 543, 544, 545, 546, 547, 548, 549, 550, 551, 552, 553, 554, 555, 556, 557, 558, 559, 560, 561, 562, 563, 564, 565, 566, 567, 568, 569, 600, 601, 602, 603, 604, 605, 606, 607, 608, 609, 610, 611, 612, 613, 614, 615, 616, 617, 618, 619, 620, 621, 622, 623, 624, 625, 626, 627, 628, 629, 660, 661, 662, 663, 664, 665, 666, 667, 668, 669, 670, 671, 672, 673, 674, 675, 676, 677, 678, 679, 680, 681, 682, 683, 684, 685, 686, 687, 688, 689, 690, 691, 692, 693, 694, 695, 696, 697, 698, 699, 700, 701, 702, 703, 704, 705, 706, 707, 708, 709, 710, 711, 712, 713, 714, 715, 716, 717, 718, 719, 720, 721, 722, 723, 724, 725, 726, 727, 728, 729, 730, 731, 732, 733, 734, 735, 736, 737, 738, 739, 740, 741, 742, 743, 744, 745, 746, 747, 748, 749, 810, 811, 812, 813, 814, 815, 816, 817, 818, 819, 820, 821, 822, 823, 824, 825, 826, 827, 828, 829, 830, 831, 832, 833, 834, 835, 836, 837, 838, 839, 840, 841, 842, 843, 844, 845, 846, 847, 848, 849, 850, 851, 852, 853, 854, 855, 856, 857, 858, 859, 860, 861, 862, 863, 864, 865, 866, 867, 868, 869, 990, 991, 992, 993, 994, 995, 996, 997, 998, 999, 1000, 1001, 1002, 1003, 1004, 1005, 1006, 1007, 1008, 1009, 1010, 1011, 1012, 1013, 1014, 1015, 1016, 1017, 1018, 1019]\n",
      "10:0\n",
      "[['9:0', '9:29'], ['10:1', '10:29'], ['11:1', '12:29'], ['13:31', '14:29']]\n"
     ]
    }
   ],
   "source": [
    "user1 = [['09:30','10:00'],['12:30','13:30'],['15:30','16:30']]\n",
    "user2 = [['10:30','11:00'],['14:30','16:30']]\n",
    "userstart = ['09:00','17:00']\n",
    "\n",
    "def truetime(time):\n",
    "    hour = int(time[0:2])\n",
    "    minute = int(time[3:5])\n",
    "    return (hour*60)+minute\n",
    "\n",
    "def reverse_truetime(time):\n",
    "    minute = time % 60\n",
    "    hour = int((time - minute) / 60)\n",
    "    newtime = str(hour) + ':' + str(minute)\n",
    "    return newtime\n",
    "\n",
    "def busytimes(user):\n",
    "    busytimes = []\n",
    "    for meeting in user:\n",
    "        start_meeting = truetime(meeting[0])\n",
    "        end_meeting = truetime(meeting[1])\n",
    "        t = start_meeting\n",
    "        while t < end_meeting:\n",
    "            busytimes.append(t)\n",
    "            t+=1\n",
    "    return busytimes\n",
    "\n",
    "def createtimetable():\n",
    "    timetable = []\n",
    "    starttime = truetime(userstart[0])\n",
    "    endtime = truetime(userstart[1])\n",
    "    t = starttime\n",
    "    while t < endtime:\n",
    "        timetable.append(t)\n",
    "        t=t+1\n",
    "    return timetable\n",
    "            \n",
    "timetable = createtimetable()\n",
    "\n",
    "for time in busytimes(user1):\n",
    "    if time in timetable:\n",
    "        timetable.remove(time)\n",
    "for time in busytimes(user2):\n",
    "    if time in timetable:\n",
    "        timetable.remove(time)\n",
    "        \n",
    "\n",
    "freetimes = []\n",
    "run = False\n",
    "for time in timetable:\n",
    "    if run == False:\n",
    "        prevtime = time - 1\n",
    "        startrun = time\n",
    "    run = True\n",
    "    if time != prevtime + 1:\n",
    "        endrun = prevtime\n",
    "        freetimes.append([reverse_truetime(startrun),reverse_truetime(endrun)])\n",
    "        run = False\n",
    "    prevtime = time       \n",
    "\n",
    "print(freetimes)"
   ]
  },
  {
   "cell_type": "code",
   "execution_count": null,
   "metadata": {},
   "outputs": [],
   "source": []
  },
  {
   "cell_type": "code",
   "execution_count": null,
   "metadata": {},
   "outputs": [],
   "source": []
  }
 ],
 "metadata": {
  "kernelspec": {
   "display_name": "Python 3",
   "language": "python",
   "name": "python3"
  },
  "language_info": {
   "codemirror_mode": {
    "name": "ipython",
    "version": 3
   },
   "file_extension": ".py",
   "mimetype": "text/x-python",
   "name": "python",
   "nbconvert_exporter": "python",
   "pygments_lexer": "ipython3",
   "version": "3.8.5"
  }
 },
 "nbformat": 4,
 "nbformat_minor": 4
}
