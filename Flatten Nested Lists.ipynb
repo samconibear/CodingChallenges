{
 "cells": [
  {
   "cell_type": "code",
   "execution_count": 49,
   "metadata": {},
   "outputs": [
    {
     "name": "stdout",
     "output_type": "stream",
     "text": [
      "[1, 2, 3, 5, 4, 5, 6, 7, 4, 4, 7, 4, 5, 3, 3, 4, 3]\n"
     ]
    }
   ],
   "source": [
    "import numpy as np\n",
    "\n",
    "lst = [[1,2],3,[5,[4,5,[6,7],[4,[4,7]]]],[4,[5,3,[3,[4,3]]]]]\n",
    "\n",
    "nlst = []\n",
    "\n",
    "def flatten(lst):\n",
    "    for element in lst:\n",
    "        if isinstance(element, list): # checks if element is list.\n",
    "            for it in flatten(element):\n",
    "                yield it\n",
    "        else:\n",
    "            yield element\n",
    "\n",
    "print( list(flatten(lst)) )\n"
   ]
  },
  {
   "cell_type": "code",
   "execution_count": null,
   "metadata": {},
   "outputs": [],
   "source": []
  },
  {
   "cell_type": "code",
   "execution_count": null,
   "metadata": {},
   "outputs": [],
   "source": []
  }
 ],
 "metadata": {
  "kernelspec": {
   "display_name": "Python 3",
   "language": "python",
   "name": "python3"
  },
  "language_info": {
   "codemirror_mode": {
    "name": "ipython",
    "version": 3
   },
   "file_extension": ".py",
   "mimetype": "text/x-python",
   "name": "python",
   "nbconvert_exporter": "python",
   "pygments_lexer": "ipython3",
   "version": "3.8.5"
  }
 },
 "nbformat": 4,
 "nbformat_minor": 4
}
